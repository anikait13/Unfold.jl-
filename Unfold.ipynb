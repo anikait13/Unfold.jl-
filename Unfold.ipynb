{
 "cells": [
  {
   "cell_type": "code",
   "execution_count": 1,
   "id": "a1fdb1a5-b8f8-48cb-94a4-886db9b1053e",
   "metadata": {},
   "outputs": [],
   "source": [
    "using Unfold\n",
    "using UnfoldMakie,CairoMakie\n",
    "using PyMNE\n",
    "using DataFrames"
   ]
  },
  {
   "cell_type": "code",
   "execution_count": 9,
   "id": "16c0d460-8782-4f99-9ddf-d763cd617ab0",
   "metadata": {},
   "outputs": [
    {
     "name": "stdout",
     "output_type": "stream",
     "text": [
      "Reading /Users/anikait/Desktop/builds/EEG mat to julia/Unfold_1sj/raw_EM_RtrFixCnd_clean_opticat_ICA_FiltAvRefIntp.fdt\n"
     ]
    },
    {
     "data": {
      "text/html": [
       "<table class=\"table table-hover table-striped table-sm table-responsive small\">\n",
       "    <tr>\n",
       "        <th>Measurement date</th>\n",
       "        \n",
       "        <td>Unknown</td>\n",
       "        \n",
       "    </tr>\n",
       "    <tr>\n",
       "        <th>Experimenter</th>\n",
       "        \n",
       "        <td>Unknown</td>\n",
       "        \n",
       "    </tr>\n",
       "        <th>Participant</th>\n",
       "        \n",
       "        <td>Unknown</td>\n",
       "        \n",
       "    </tr>\n",
       "    <tr>\n",
       "        <th>Digitized points</th>\n",
       "        \n",
       "        <td>34 points</td>\n",
       "        \n",
       "    </tr>\n",
       "    <tr>\n",
       "        <th>Good channels</th>\n",
       "        <td>31 EEG</td>\n",
       "    </tr>\n",
       "    <tr>\n",
       "        <th>Bad channels</th>\n",
       "        <td>None</td>\n",
       "    </tr>\n",
       "    <tr>\n",
       "        <th>EOG channels</th>\n",
       "        <td>Not available</td>\n",
       "    </tr>\n",
       "    <tr>\n",
       "        <th>ECG channels</th>\n",
       "        <td>Not available</td>\n",
       "    \n",
       "    <tr>\n",
       "        <th>Sampling frequency</th>\n",
       "        <td>256.00 Hz</td>\n",
       "    </tr>\n",
       "    \n",
       "    \n",
       "    <tr>\n",
       "        <th>Highpass</th>\n",
       "        <td>0.00 Hz</td>\n",
       "    </tr>\n",
       "    \n",
       "    \n",
       "    <tr>\n",
       "        <th>Lowpass</th>\n",
       "        <td>128.00 Hz</td>\n",
       "    </tr>\n",
       "    \n",
       "    \n",
       "    \n",
       "    <tr>\n",
       "        <th>Filenames</th>\n",
       "        <td>raw_EM_RtrFixCnd_clean_opticat_ICA_FiltAvRefIntp.fdt</td>\n",
       "    </tr>\n",
       "    \n",
       "    <tr>\n",
       "        <th>Duration</th>\n",
       "        <td>01:19:03 (HH:MM:SS)</td>\n",
       "    </tr>\n",
       "</table>"
      ],
      "text/plain": [
       "Python: <RawEEGLAB | raw_EM_RtrFixCnd_clean_opticat_ICA_FiltAvRefIntp.fdt, 31 x 1214000 (4742.2 s), ~40 kB, data not loaded>"
      ]
     },
     "execution_count": 9,
     "metadata": {},
     "output_type": "execute_result"
    }
   ],
   "source": [
    "file_path = \"/Users/anikait/Desktop/builds/EEG mat to julia/Unfold_1sj/raw_EM_RtrFixCnd_clean_opticat_ICA_FiltAvRefIntp.set\"\n",
    "raw = PyMNE.io.read_raw_eeglab(file_path)"
   ]
  },
  {
   "cell_type": "code",
   "execution_count": 10,
   "id": "5eb3f555-8091-454e-a0f6-2e94c25c4377",
   "metadata": {},
   "outputs": [
    {
     "data": {
      "text/plain": [
       "Dict{String, Vector{String}} with 1 entry:\n",
       "  \"CTD_Correctness\" => [\"Cue_Cor\", \"Trg_Cor\", \"Dst_Cor\", \"Cue_Wro\", \"Trg_Wro\", …"
      ]
     },
     "execution_count": 10,
     "metadata": {},
     "output_type": "execute_result"
    }
   ],
   "source": [
    "# Initialize the cfgDesign structure\n",
    "cfgDesign = Dict()\n",
    "\n",
    "# Define event types\n",
    "cfgDesign[\"eventtypes\"] = [\"fixation\", \"TestOnset\"]\n",
    "\n",
    "# Define formulas for statistical modeling\n",
    "cfgDesign[\"formula\"] = [\n",
    "    \"y ~ 1 + cat(CTD_Correctness) + rank + iTest + spl(duration, 5) + spl(sac_amplitude, 5) + circspl(sac_angle, 5, -180, 180)\",\n",
    "    \"y ~ 1\"\n",
    "]\n",
    "\n",
    "# Define categorical variable and categories\n",
    "cfgDesign[\"categorical\"] = Dict(\n",
    "    \"CTD_Correctness\" => [\"Cue_Cor\", \"Trg_Cor\", \"Dst_Cor\", \"Cue_Wro\", \"Trg_Wro\", \"Dst_Wro\", \"Other\"]\n",
    ")\n"
   ]
  },
  {
   "cell_type": "code",
   "execution_count": 12,
   "id": "aad830e9-3761-46eb-9892-04ec452cb96e",
   "metadata": {},
   "outputs": [
    {
     "ename": "LoadError",
     "evalue": "UndefVarError: `uf_designmat` not defined",
     "output_type": "error",
     "traceback": [
      "UndefVarError: `uf_designmat` not defined",
      "",
      "Stacktrace:",
      " [1] getproperty(x::Module, f::Symbol)",
      "   @ Base ./Base.jl:31",
      " [2] top-level scope",
      "   @ In[12]:1"
     ]
    }
   ],
   "source": [
    "EEG = PyMNE.uf_designmat(EEG, cfgDesign)\n"
   ]
  },
  {
   "cell_type": "code",
   "execution_count": null,
   "id": "a3d22623-7ee6-4a4b-a939-f3cbba806127",
   "metadata": {},
   "outputs": [],
   "source": []
  }
 ],
 "metadata": {
  "kernelspec": {
   "display_name": "Julia 1.9.2",
   "language": "julia",
   "name": "julia-1.9"
  },
  "language_info": {
   "file_extension": ".jl",
   "mimetype": "application/julia",
   "name": "julia",
   "version": "1.9.2"
  }
 },
 "nbformat": 4,
 "nbformat_minor": 5
}
